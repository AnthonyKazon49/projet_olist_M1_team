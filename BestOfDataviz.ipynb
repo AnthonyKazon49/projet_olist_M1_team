{
 "cells": [
  {
   "metadata": {},
   "cell_type": "markdown",
   "source": "### Bestof dataviz olist",
   "id": "fffd81e5a641ffd7"
  },
  {
   "cell_type": "code",
   "id": "initial_id",
   "metadata": {
    "collapsed": true,
    "ExecuteTime": {
     "end_time": "2025-02-07T14:02:21.785400Z",
     "start_time": "2025-02-07T14:02:18.027109Z"
    }
   },
   "source": [
    "import pandas as pd\n",
    "import numpy as np\n",
    "import matplotlib.pyplot as plt\n",
    "import seaborn as sns\n",
    "customers= pd.read_csv('olist_customers_dataset.csv')\n",
    "geolocalisation= pd.read_csv('olist_geolocation_dataset.csv')\n",
    "order_items= pd.read_csv('olist_order_items_dataset.csv')\n",
    "order_payements= pd.read_csv('olist_order_payments_dataset.csv')\n",
    "order_reviews= pd.read_csv('olist_order_reviews_dataset.csv')\n",
    "orders= pd.read_csv('olist_orders_dataset.csv')\n",
    "products= pd.read_csv('olist_products_dataset.csv')\n",
    "sellers= pd.read_csv('olist_sellers_dataset.csv')\n",
    "name_translation= pd.read_csv('product_category_name_translation.csv')"
   ],
   "outputs": [],
   "execution_count": 5
  },
  {
   "metadata": {},
   "cell_type": "markdown",
   "source": "### Review score correlation",
   "id": "165b48ab72089e0e"
  },
  {
   "metadata": {
    "ExecuteTime": {
     "end_time": "2025-02-07T14:44:43.140807Z",
     "start_time": "2025-02-07T14:44:41.966110Z"
    }
   },
   "cell_type": "code",
   "source": "sns.countplot(data = order_reviews, x='review_score')\n",
   "id": "16c95d54073abe0e",
   "outputs": [
    {
     "data": {
      "text/plain": [
       "<Axes: xlabel='review_score', ylabel='count'>"
      ]
     },
     "execution_count": 7,
     "metadata": {},
     "output_type": "execute_result"
    },
    {
     "data": {
      "text/plain": [
       "<Figure size 640x480 with 1 Axes>"
      ],
      "image/png": "[encoded data removed]"
     },
     "metadata": {},
     "output_type": "display_data"
    }
   ],
   "execution_count": 7
  },
  {
   "metadata": {
    "ExecuteTime": {
     "end_time": "2025-02-07T14:45:04.601322Z",
     "start_time": "2025-02-07T14:45:04.263964Z"
    }
   },
   "cell_type": "code",
   "outputs": [],
   "execution_count": 9,
   "source": [
    "one_score_reviews = order_reviews[(order_reviews[\"review_score\"] == 1) & (order_reviews[\"review_comment_message\"].notna())]\n",
    "order_counts = order_items[\"order_id\"].value_counts().reset_index()\n",
    "order_counts.groupby(\"order_id\")\n",
    "merged_df = order_reviews.merge(order_counts, on=\"order_id\", how=\"left\")\n"
   ],
   "id": "f084686e514225bb"
  },
  {
   "metadata": {
    "ExecuteTime": {
     "end_time": "2025-02-07T14:45:06.454150Z",
     "start_time": "2025-02-07T14:45:06.433475Z"
    }
   },
   "cell_type": "code",
   "source": [
    "correlation = merged_df['count'].corr(merged_df['review_score'])\n",
    "correlation"
   ],
   "id": "8af7b8ab56f71e1a",
   "outputs": [
    {
     "data": {
      "text/plain": [
       "np.float64(-0.1155670537589946)"
      ]
     },
     "execution_count": 10,
     "metadata": {},
     "output_type": "execute_result"
    }
   ],
   "execution_count": 10
  },
  {
   "metadata": {
    "ExecuteTime": {
     "end_time": "2025-02-07T14:46:15.260099Z",
     "start_time": "2025-02-07T14:46:15.089614Z"
    }
   },
   "cell_type": "code",
   "source": [
    "merged_payment_by_rating = order_reviews.merge(order_payements, on=\"order_id\", how=\"left\")\n",
    "merged_payment_by_rating['payment_value'] = merged_payment_by_rating['payment_value'].fillna(0)"
   ],
   "id": "b36aa4b207e9b84c",
   "outputs": [],
   "execution_count": 12
  },
  {
   "metadata": {
    "ExecuteTime": {
     "end_time": "2025-02-07T14:46:16.310691Z",
     "start_time": "2025-02-07T14:46:16.282947Z"
    }
   },
   "cell_type": "code",
   "source": [
    "filtered_df = merged_payment_by_rating[merged_payment_by_rating['payment_value'] < 200]\n",
    "correlation = filtered_df['review_score'].corr(filtered_df['payment_value'])\n",
    "correlation"
   ],
   "id": "7e103c332ff4d42d",
   "outputs": [
    {
     "data": {
      "text/plain": [
       "np.float64(-0.025959344340745205)"
      ]
     },
     "execution_count": 13,
     "metadata": {},
     "output_type": "execute_result"
    }
   ],
   "execution_count": 13
  }
 ],
 "metadata": {
  "kernelspec": {
   "display_name": "Python 3",
   "language": "python",
   "name": "python3"
  },
  "language_info": {
   "codemirror_mode": {
    "name": "ipython",
    "version": 2
   },
   "file_extension": ".py",
   "mimetype": "text/x-python",
   "name": "python",
   "nbconvert_exporter": "python",
   "pygments_lexer": "ipython2",
   "version": "2.7.6"
  }
 },
 "nbformat": 4,
 "nbformat_minor": 5
}
